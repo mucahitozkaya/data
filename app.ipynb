{
  "nbformat": 4,
  "nbformat_minor": 0,
  "metadata": {
    "colab": {
      "provenance": [],
      "authorship_tag": "ABX9TyN9kOARnzIsjBo+XvYYkquF",
      "include_colab_link": true
    },
    "kernelspec": {
      "name": "python3",
      "display_name": "Python 3"
    },
    "language_info": {
      "name": "python"
    }
  },
  "cells": [
    {
      "cell_type": "markdown",
      "metadata": {
        "id": "view-in-github",
        "colab_type": "text"
      },
      "source": [
        "<a href=\"https://colab.research.google.com/github/mucahitozkaya/data/blob/main/app.ipynb\" target=\"_parent\"><img src=\"https://colab.research.google.com/assets/colab-badge.svg\" alt=\"Open In Colab\"/></a>"
      ]
    },
    {
      "cell_type": "code",
      "execution_count": 11,
      "metadata": {
        "id": "jU1KfFZc0qi2"
      },
      "outputs": [],
      "source": [
        "import pandas as pd"
      ]
    },
    {
      "cell_type": "code",
      "source": [
        "train_data = pd.read_csv(\"https://drive.google.com/uc?id=1zn_LJkIylZ5LX0YkZ_13v5l7LKSL_zqh\")\n",
        "submission_sample = pd.read_csv(\"https://drive.google.com/uc?id=1Ck7DCmb_fvYTFIBT7JfGkZEEHM7l-TvQ\")\n"
      ],
      "metadata": {
        "id": "yH8de2xc5tEK"
      },
      "execution_count": 12,
      "outputs": []
    }
  ]
}